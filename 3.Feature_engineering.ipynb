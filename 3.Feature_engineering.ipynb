{
 "cells": [
  {
   "cell_type": "markdown",
   "id": "8e4fd4c9-3f17-49fa-993d-f564d7eb0ddb",
   "metadata": {},
   "source": [
    "## Loading and Setup"
   ]
  },
  {
   "cell_type": "code",
   "execution_count": 1,
   "id": "53f19597-c49f-4f5d-a6bc-55d9ddd12f96",
   "metadata": {
    "tags": []
   },
   "outputs": [],
   "source": [
    "# import relevant packages\n",
    "import pandas as pd\n",
    "import numpy as np\n",
    "import matplotlib.pyplot as plt\n",
    "import seaborn as sns\n",
    "import statsmodels.api as sm\n",
    "from scipy import stats\n",
    "from scipy.stats import norm"
   ]
  },
  {
   "cell_type": "code",
   "execution_count": null,
   "id": "70527052-5dec-4bd1-bc5b-6323045275e4",
   "metadata": {},
   "outputs": [],
   "source": []
  },
  {
   "cell_type": "code",
   "execution_count": null,
   "id": "2be77f4f-a101-4c5a-9dec-72bd765083c2",
   "metadata": {},
   "outputs": [],
   "source": []
  },
  {
   "cell_type": "code",
   "execution_count": null,
   "id": "fa230292-30a3-4150-b694-71a8a9eee300",
   "metadata": {},
   "outputs": [],
   "source": []
  }
 ],
 "metadata": {
  "kernelspec": {
   "display_name": "basicpythonkernel",
   "language": "python",
   "name": "basicpythonkernel"
  },
  "language_info": {
   "codemirror_mode": {
    "name": "ipython",
    "version": 3
   },
   "file_extension": ".py",
   "mimetype": "text/x-python",
   "name": "python",
   "nbconvert_exporter": "python",
   "pygments_lexer": "ipython3",
   "version": "3.9.18"
  }
 },
 "nbformat": 4,
 "nbformat_minor": 5
}
